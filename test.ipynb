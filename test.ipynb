{
 "cells": [
  {
   "cell_type": "code",
   "execution_count": 60,
   "metadata": {},
   "outputs": [],
   "source": [
    "import paramiko\n",
    " \n",
    "pkey='/Users/chenlishan/ssh-rsa.txt'  #本地密钥文件路径[此文件服务器上~/.ssh/id_rsa可下载到本地]\n",
    "key=paramiko.RSAKey.from_private_key_file(pkey) #有解密密码时,\n",
    "paramiko.util.log_to_file('paramiko.log')"
   ]
  },
  {
   "cell_type": "code",
   "execution_count": 61,
   "metadata": {},
   "outputs": [],
   "source": [
    "ssh = paramiko.SSHClient()\n",
    "ssh.set_missing_host_key_policy(paramiko.AutoAddPolicy()) #通过公共方式进行认证 (不需要在known_hosts 文件中存在)\n",
    "#ssh.load_system_host_keys() #如通过known_hosts 方式进行认证可以用这个,如果known_hosts 文件未定义还需要定义 known_hosts\n",
    "ssh.connect('47.114.135.23',username = 'hdfs',password='',pkey=key,port=22222) #这里要 pkey passwordkey 密钥文件"
   ]
  },
  {
   "cell_type": "code",
   "execution_count": 62,
   "metadata": {},
   "outputs": [],
   "source": [
    "t = ssh.get_transport()\n",
    "sftp=paramiko.SFTPClient.from_transport(t)"
   ]
  },
  {
   "cell_type": "code",
   "execution_count": 63,
   "metadata": {},
   "outputs": [
    {
     "name": "stdout",
     "output_type": "stream",
     "text": [
      "-rw-rw-r--   1 993      990       5100426 23 Apr 18:10 ?\n"
     ]
    }
   ],
   "source": [
    "d = sftp.put(\"/Users/chenlishan/Desktop/0422_yuyue_raw.csv\",\"/tmp/final_copy_0422_bill_statements_copy2.csv\")\n",
    "print(d)"
   ]
  },
  {
   "cell_type": "code",
   "execution_count": null,
   "metadata": {
    "scrolled": true
   },
   "outputs": [],
   "source": []
  },
  {
   "cell_type": "code",
   "execution_count": 64,
   "metadata": {
    "scrolled": true
   },
   "outputs": [
    {
     "data": {
      "text/html": [
       "<iframe src=\"https://bigdata-query.codemao.cn/\" width=\"1000\" height=\"600\"></iframe>\n"
      ],
      "text/plain": [
       "<IPython.core.display.HTML object>"
      ]
     },
     "metadata": {},
     "output_type": "display_data"
    }
   ],
   "source": [
    "%%html\n",
    "<iframe src=\"https://bigdata-query.codemao.cn/\" width=\"1000\" height=\"600\"></iframe>"
   ]
  },
  {
   "cell_type": "code",
   "execution_count": 65,
   "metadata": {},
   "outputs": [],
   "source": [
    "table_name = 'tmp.senxin_b2c_yuyue_raw_data_0422'"
   ]
  },
  {
   "cell_type": "code",
   "execution_count": 66,
   "metadata": {},
   "outputs": [
    {
     "data": {
      "text/plain": [
       "'hive -e \"load data local inpath \\'/tmp/final_copy_0422_bill_statements_copy2.csv\\' overwrite into table tmp.senxin_b2c_yuyue_raw_data_0422;\" '"
      ]
     },
     "execution_count": 66,
     "metadata": {},
     "output_type": "execute_result"
    }
   ],
   "source": [
    "load_cmd = '''hive -e \"load data local inpath '/tmp/%s' overwrite into table %s;\" ''' % ('final_copy_0422_bill_statements_copy2.csv',table_name)\n",
    "load_cmd"
   ]
  },
  {
   "cell_type": "code",
   "execution_count": 67,
   "metadata": {},
   "outputs": [
    {
     "name": "stdout",
     "output_type": "stream",
     "text": [
      "WARN: The method class org.apache.commons.logging.impl.SLF4JLogFactory#release() was invoked.\n",
      "\n",
      "WARN: Please see http://www.slf4j.org/codes.html#release for an explanation.\n",
      "\n",
      "Java HotSpot(TM) 64-Bit Server VM warning: ignoring option MaxPermSize=512M; support was removed in 8.0\n",
      "\n",
      "Java HotSpot(TM) 64-Bit Server VM warning: ignoring option MaxPermSize=512M; support was removed in 8.0\n",
      "\n",
      "\n",
      "\n",
      "Logging initialized using configuration in jar:file:/opt/cloudera/parcels/CDH-5.12.1-1.cdh5.12.1.p0.3/jars/hive-common-1.1.0-cdh5.12.1.jar!/hive-log4j.properties\n",
      "\n",
      "Loading data to table tmp.senxin_b2c_yuyue_raw_data_0422\n",
      "\n",
      "Table tmp.senxin_b2c_yuyue_raw_data_0422 stats: [numFiles=1, numRows=0, totalSize=5100426, rawDataSize=0]\n",
      "\n",
      "OK\n",
      "\n",
      "Time taken: 2.77 seconds\n",
      "\n"
     ]
    }
   ],
   "source": [
    "stdin, stdout, stderr = ssh.exec_command(load_cmd )\n",
    "print('\\n'.join(stdout.readlines()) )\n",
    "print('\\n'.join(stderr.readlines()))"
   ]
  },
  {
   "cell_type": "code",
   "execution_count": null,
   "metadata": {},
   "outputs": [],
   "source": []
  },
  {
   "cell_type": "code",
   "execution_count": null,
   "metadata": {},
   "outputs": [],
   "source": []
  }
 ],
 "metadata": {
  "kernelspec": {
   "display_name": "Python 3",
   "language": "python",
   "name": "python3"
  },
  "language_info": {
   "codemirror_mode": {
    "name": "ipython",
    "version": 3
   },
   "file_extension": ".py",
   "mimetype": "text/x-python",
   "name": "python",
   "nbconvert_exporter": "python",
   "pygments_lexer": "ipython3",
   "version": "3.7.4rc1"
  }
 },
 "nbformat": 4,
 "nbformat_minor": 4
}
